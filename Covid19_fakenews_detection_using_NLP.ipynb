{
  "nbformat": 4,
  "nbformat_minor": 5,
  "metadata": {
    "kernelspec": {
      "display_name": "Python 3",
      "language": "python",
      "name": "python3"
    },
    "language_info": {
      "codemirror_mode": {
        "name": "ipython",
        "version": 3
      },
      "file_extension": ".py",
      "mimetype": "text/x-python",
      "name": "python",
      "nbconvert_exporter": "python",
      "pygments_lexer": "ipython3",
      "version": "3.8.5"
    },
    "colab": {
      "name": "Copy of Covid19 fakenews detection using NLP.ipynb",
      "provenance": [],
      "collapsed_sections": []
    }
  },
  "cells": [
    {
      "cell_type": "markdown",
      "metadata": {
        "id": "remarkable-partition"
      },
      "source": [
        "# Covid19 fakenews detection using NLP"
      ],
      "id": "remarkable-partition"
    },
    {
      "cell_type": "markdown",
      "metadata": {
        "id": "limited-runner"
      },
      "source": [
        "![separator](files/sep.jpeg)"
      ],
      "id": "limited-runner"
    },
    {
      "cell_type": "markdown",
      "metadata": {
        "id": "generic-vermont"
      },
      "source": [
        "One of the sharde tasks of CONSTRAINT 2021's first Workshop on Combating Online Hostile Posts in Regional Languages during Emergency Si​tuation, was about  \"*Fighting an Infodemic: COVID-19 Fake News*\". Here is my modest participation at the Codalab's competition [COVID19 Fake News Detection in English](https://competitions.codalab.org/competitions/26655#learn_the_details)\n",
        "\n",
        "The [Fighting an Infodemic: COVID-19 Fake News Dataset](https://arxiv.org/abs/2011.03327) contains tweets along with their associated binary\n",
        "labels: `real` for real/verified COVID19 related informations and `fake` for hoaxes/fake news. I used Natural Language Processing to perform a binary classification, and train a model to guess the real from the fake tweets.\n",
        "\n",
        "We proceed as follow:\n",
        "\n",
        "* **Data analysis** - We prepare, study and explore a dataset, highliting important correlations.\n",
        "* **Model modelling** - we create and train a model to predict our label variable, then we tune the hyper-parameters of our model in order to improve it if possible.\n",
        "* **Model evaluation and comparison** - we evaluate it using some metrics and compare them to find the best one.  \n",
        "* **Conclusion/further contributions**.\n",
        "\n",
        "To work through these topics, we'll use the `scikit learn` API and the models from SVM, LogisticRegression, XGBoost and Naive Bayes."
      ],
      "id": "generic-vermont"
    },
    {
      "cell_type": "code",
      "metadata": {
        "id": "unsigned-found"
      },
      "source": [
        "# Data analysis libraries\n",
        "import numpy as np \n",
        "import pandas as pd \n",
        "import matplotlib.pyplot as plt\n",
        "import seaborn as sns\n",
        "import collections\n",
        "\n",
        "## Scikit Learn Models:\n",
        "from sklearn.linear_model import LogisticRegression\n",
        "from sklearn.naive_bayes import MultinomialNB\n",
        "from sklearn.svm import LinearSVC\n",
        "from xgboost import XGBClassifier\n",
        "\n",
        "## Feature extraction\n",
        "from sklearn.base import BaseEstimator, TransformerMixin\n",
        "from sklearn.feature_extraction.text import CountVectorizer, TfidfVectorizer\n",
        "from sklearn.feature_extraction import stop_words\n",
        "\n",
        "\n",
        "## text preprocessing\n",
        "import nltk\n",
        "from nltk.stem import PorterStemmer, WordNetLemmatizer\n",
        "import re\n",
        "import string\n",
        "#import emoji\n",
        "\n",
        "\n",
        "## Scikit Learn Model evaluators:\n",
        "from sklearn.model_selection import train_test_split, cross_val_score, KFold\n",
        "from sklearn.model_selection import RandomizedSearchCV, GridSearchCV\n",
        "from sklearn import metrics\n",
        "from sklearn.metrics import confusion_matrix, classification_report, roc_curve\n",
        "from sklearn.metrics import precision_score, recall_score, f1_score\n",
        "from sklearn.pipeline import Pipeline, FeatureUnion\n",
        "\n",
        "## Check for GPU\n",
        "#print(\"GPU\", \"available\" if tf.config.list_physical_devices(\"GPU\") else \"not available...\")"
      ],
      "id": "unsigned-found",
      "execution_count": 4,
      "outputs": []
    },
    {
      "cell_type": "markdown",
      "metadata": {
        "id": "blind-airline"
      },
      "source": [
        "For visibility reasons, I will use the following set of colours : \n",
        "<span style=\"color:#dce9f2\">#dce9f2</span>, <span style='color:#b5cce3'>#b5cce3</span>, <span style='color:#8c95c6'>#8c95c6</span>, <span style='color:#894da3'>#894da3</span> and <span style='color:#6a0867'>#6a0867</span> \n"
      ],
      "id": "blind-airline"
    },
    {
      "cell_type": "code",
      "metadata": {
        "id": "latin-coaching"
      },
      "source": [
        "## Seaborn grid style\n",
        "plt.style.use('seaborn-whitegrid')\n",
        "\n",
        "#sns.heatmap(np.linspace(1,5,15).reshape(5,3), cmap='BuPu');\n",
        "colours = [ '#dce9f2', '#b5cce3', '#8c95c6', '#894da3', '#6a0867']"
      ],
      "id": "latin-coaching",
      "execution_count": null,
      "outputs": []
    },
    {
      "cell_type": "markdown",
      "metadata": {
        "id": "usymVQfz4rAt"
      },
      "source": [
        "Here are some useful functions that we will be using all along:"
      ],
      "id": "usymVQfz4rAt"
    },
    {
      "cell_type": "code",
      "metadata": {
        "id": "dQOQiwXT4qlV"
      },
      "source": [
        "# Plots a more visual confusion matrix\n",
        "def conf_mtrx_plot(mtrx, normalize=False) :\n",
        "    \"\"\" Plot confusion matrix using seaborn's heatmap \"\"\"\n",
        "    if normalize:\n",
        "      mtrx = mtrx.astype('float') / mtrx.sum(axis=1)[:, np.newaxis]\n",
        "    \n",
        "    fig, ax = plt.subplots(figsize = (8,8))\n",
        "    ax = sns.heatmap(data = mtrx,\n",
        "                     cmap = 'BuPu',\n",
        "                     #fmt = '.2f',\n",
        "                     robust = True,\n",
        "                     center = 0,\n",
        "                     square = True,\n",
        "                     annot = True)\n",
        "    plt.ylabel('True')\n",
        "    plt.xlabel('Predicted')\n",
        "    plt.show()\n",
        "    return fig\n",
        "\n",
        "# Plots a more visual ROC curve\n",
        "def ROC_cur_plot(clf, X_test, y_test):\n",
        "    ''' Plot a ROC curve of the TPR and FPR'''\n",
        "    fig, ax = plt.subplots(figsize = (8,8))\n",
        "    fpr, tpr, thresholds = roc_curve(y_test, clf.predict_proba(X_test)[:, 1])\n",
        "    AUC = metrics.auc(fpr,tpr)\n",
        "    # Plot ROC curve\n",
        "    plt.plot(fpr, tpr, color=colours[2], label='AUC: {:.2f}'.format(AUC))\n",
        "    # Plot line with no predictive power (baseline)\n",
        "    plt.plot([0, 1], [0, 1], color=colours[4], linestyle='--', label='Guess')\n",
        "    # Customize the plot\n",
        "    plt.xlabel('False Positive Rate (fpr)')\n",
        "    plt.ylabel('True Positive Rate (tpr)')\n",
        "    plt.title('ROC Curve')\n",
        "    plt.legend(loc = 'lower right')\n",
        "    plt.style.use('default')\n",
        "    return fig"
      ],
      "id": "dQOQiwXT4qlV",
      "execution_count": null,
      "outputs": []
    },
    {
      "cell_type": "markdown",
      "metadata": {
        "id": "operating-negative"
      },
      "source": [
        "# 1) Data analysis:\n",
        "\n",
        "The original dataset is from the [Codalab](https://competitions.codalab.org/competitions/26655#learn_the_details). It contains 8560 tweets split into a training and validation sets, and a testing set of 2140 tweets to label."
      ],
      "id": "operating-negative"
    },
    {
      "cell_type": "markdown",
      "metadata": {
        "id": "naughty-headquarters"
      },
      "source": [
        "### Data description: \n",
        "\n",
        "We import our csv files:"
      ],
      "id": "naughty-headquarters"
    },
    {
      "cell_type": "code",
      "metadata": {
        "id": "massive-discussion"
      },
      "source": [
        "train_df = pd.read_csv('files/Constraint_English_Train - Sheet1.csv', index_col = 'id',)\n",
        "val_df = pd.read_csv('files/Constraint_English_Val - Sheet1.csv', index_col = 'id')\n",
        "test_df = pd.read_csv('files/english_test_with_labels - Sheet1.csv', index_col = 'id')\n",
        "\n",
        "main_df = pd.concat([train_df, val_df]).sample(frac=1).reset_index(drop=True)"
      ],
      "id": "massive-discussion",
      "execution_count": null,
      "outputs": []
    },
    {
      "cell_type": "markdown",
      "metadata": {
        "id": "jhMdXXNxUoPS"
      },
      "source": [
        "Our data is in the form of a DataFrame of $8560$ tweets with the labels `real` for real news and `fake` for the fake ones:"
      ],
      "id": "jhMdXXNxUoPS"
    },
    {
      "cell_type": "code",
      "metadata": {
        "colab": {
          "base_uri": "https://localhost:8080/",
          "height": 206
        },
        "id": "AxXK-DrFpHjl",
        "outputId": "e3fda818-8d68-4ecc-c97f-db10afae3545"
      },
      "source": [
        "main_df.head()"
      ],
      "id": "AxXK-DrFpHjl",
      "execution_count": null,
      "outputs": [
        {
          "output_type": "execute_result",
          "data": {
            "text/html": [
              "<div>\n",
              "<style scoped>\n",
              "    .dataframe tbody tr th:only-of-type {\n",
              "        vertical-align: middle;\n",
              "    }\n",
              "\n",
              "    .dataframe tbody tr th {\n",
              "        vertical-align: top;\n",
              "    }\n",
              "\n",
              "    .dataframe thead th {\n",
              "        text-align: right;\n",
              "    }\n",
              "</style>\n",
              "<table border=\"1\" class=\"dataframe\">\n",
              "  <thead>\n",
              "    <tr style=\"text-align: right;\">\n",
              "      <th></th>\n",
              "      <th>tweet</th>\n",
              "      <th>label</th>\n",
              "    </tr>\n",
              "  </thead>\n",
              "  <tbody>\n",
              "    <tr>\n",
              "      <th>0</th>\n",
              "      <td>Nancy Pelosi said, ???if you accept a check fr...</td>\n",
              "      <td>fake</td>\n",
              "    </tr>\n",
              "    <tr>\n",
              "      <th>1</th>\n",
              "      <td>RT @CDCHeart_Stroke: #HeartAttacks and #stroke...</td>\n",
              "      <td>real</td>\n",
              "    </tr>\n",
              "    <tr>\n",
              "      <th>2</th>\n",
              "      <td>The SARS-CoV-2 has been engineered by man edit...</td>\n",
              "      <td>fake</td>\n",
              "    </tr>\n",
              "    <tr>\n",
              "      <th>3</th>\n",
              "      <td>We expect to complete this by the end of the d...</td>\n",
              "      <td>real</td>\n",
              "    </tr>\n",
              "    <tr>\n",
              "      <th>4</th>\n",
              "      <td>RT @PIB_India: Cases per million population in...</td>\n",
              "      <td>real</td>\n",
              "    </tr>\n",
              "  </tbody>\n",
              "</table>\n",
              "</div>"
            ],
            "text/plain": [
              "                                               tweet label\n",
              "0  Nancy Pelosi said, ???if you accept a check fr...  fake\n",
              "1  RT @CDCHeart_Stroke: #HeartAttacks and #stroke...  real\n",
              "2  The SARS-CoV-2 has been engineered by man edit...  fake\n",
              "3  We expect to complete this by the end of the d...  real\n",
              "4  RT @PIB_India: Cases per million population in...  real"
            ]
          },
          "metadata": {
            "tags": []
          },
          "execution_count": 7
        }
      ]
    },
    {
      "cell_type": "code",
      "metadata": {
        "colab": {
          "base_uri": "https://localhost:8080/"
        },
        "id": "Ltsu5n2KS6n0",
        "outputId": "c7b74a98-c154-40b0-a79a-16a7a9e84701"
      },
      "source": [
        "main_df['label'].unique()"
      ],
      "id": "Ltsu5n2KS6n0",
      "execution_count": null,
      "outputs": [
        {
          "output_type": "execute_result",
          "data": {
            "text/plain": [
              "array(['fake', 'real'], dtype=object)"
            ]
          },
          "metadata": {
            "tags": []
          },
          "execution_count": 11
        }
      ]
    },
    {
      "cell_type": "code",
      "metadata": {
        "colab": {
          "base_uri": "https://localhost:8080/"
        },
        "id": "ficolMPvs_ZQ",
        "outputId": "6650726f-b0fb-4ad5-901c-db307cb0c9b5"
      },
      "source": [
        "main_df.shape"
      ],
      "id": "ficolMPvs_ZQ",
      "execution_count": null,
      "outputs": [
        {
          "output_type": "execute_result",
          "data": {
            "text/plain": [
              "(8560, 2)"
            ]
          },
          "metadata": {
            "tags": []
          },
          "execution_count": 12
        }
      ]
    },
    {
      "cell_type": "markdown",
      "metadata": {
        "id": "JZwfdThtqBMX"
      },
      "source": [
        "**NOTE :** here is a personnal favourite:"
      ],
      "id": "JZwfdThtqBMX"
    },
    {
      "cell_type": "code",
      "metadata": {
        "colab": {
          "base_uri": "https://localhost:8080/",
          "height": 35
        },
        "id": "2pWL488QqAyO",
        "outputId": "408b147c-d41a-483b-8ab5-d6effc005c3a"
      },
      "source": [
        "val_df['tweet'].iloc[0]"
      ],
      "id": "2pWL488QqAyO",
      "execution_count": null,
      "outputs": [
        {
          "output_type": "execute_result",
          "data": {
            "application/vnd.google.colaboratory.intrinsic+json": {
              "type": "string"
            },
            "text/plain": [
              "'Chinese converting to Islam after realising that no muslim was affected by #Coronavirus #COVD19 in the country'"
            ]
          },
          "metadata": {
            "tags": []
          },
          "execution_count": 13
        }
      ]
    },
    {
      "cell_type": "markdown",
      "metadata": {
        "id": "moral-degree"
      },
      "source": [
        "We can see how the reviews are reparted:"
      ],
      "id": "moral-degree"
    },
    {
      "cell_type": "code",
      "metadata": {
        "id": "mature-royalty",
        "colab": {
          "base_uri": "https://localhost:8080/",
          "height": 403
        },
        "outputId": "35b75771-4d58-4c70-b766-d1b6c3593947"
      },
      "source": [
        "fig, ax = plt.subplots(figsize = (8,6))\n",
        "main_df.label.value_counts().plot(kind = 'barh',\n",
        "                                    color=(colours[2], colours[0]),\n",
        "                                    ax = ax)\n",
        "\n",
        "plt.title('Repartition of fake and real tweets')\n",
        "plt.xlabel('Amount')\n",
        "plt.ylabel('Reviews');"
      ],
      "id": "mature-royalty",
      "execution_count": null,
      "outputs": [
        {
          "output_type": "display_data",
          "data": {
            "image/png": "[encoded data removed]",
            "text/plain": [
              "<Figure size 576x432 with 1 Axes>"
            ]
          },
          "metadata": {
            "tags": [],
            "needs_background": "light"
          }
        }
      ]
    },
    {
      "cell_type": "markdown",
      "metadata": {
        "id": "fOpipB1vFzPU"
      },
      "source": [
        "Moreover, we can also perform some statistical analysis on the dataset and get  descriptive statistics in order to process our data:\n",
        "  \n",
        "  * count words : number of words in the tweet"
      ],
      "id": "fOpipB1vFzPU"
    },
    {
      "cell_type": "code",
      "metadata": {
        "id": "B3RGgcGkG4og"
      },
      "source": [
        "count_words = main_df['tweet'].apply(lambda x: len(re.findall(r'\\w+', x)))\n",
        "\n",
        "main_df['count_words'] = count_words"
      ],
      "id": "B3RGgcGkG4og",
      "execution_count": null,
      "outputs": []
    },
    {
      "cell_type": "markdown",
      "metadata": {
        "id": "EJLIxm05Rdlm"
      },
      "source": [
        "The number of words used in the tweets is in average lower than 80 words. We also observe that real tweets tend to contain more words than the fake ones."
      ],
      "id": "EJLIxm05Rdlm"
    },
    {
      "cell_type": "code",
      "metadata": {
        "colab": {
          "base_uri": "https://localhost:8080/",
          "height": 501
        },
        "id": "F003b5lFRd4p",
        "outputId": "5c3b556c-e00f-41df-af27-48a69c973d04"
      },
      "source": [
        "fig, ax = plt.subplots(figsize = (15,8))\n",
        "\n",
        "#plot:\n",
        "sns.histplot(data = main_df,\n",
        "             x = 'count_words', \n",
        "             hue = 'label', \n",
        "             stat = 'frequency',\n",
        "             common_norm=True,\n",
        "             kde = False,\n",
        "             log_scale=True,\n",
        "             palette = (colours[2], colours[3]));"
      ],
      "id": "F003b5lFRd4p",
      "execution_count": null,
      "outputs": [
        {
          "output_type": "display_data",
          "data": {
            "image/png": "[encoded data removed]",
            "text/plain": [
              "<Figure size 1080x576 with 1 Axes>"
            ]
          },
          "metadata": {
            "tags": []
          }
        }
      ]
    },
    {
      "cell_type": "markdown",
      "metadata": {
        "id": "wvirpszeG4-G"
      },
      "source": [
        "* count mentions : referrals to other Twitter accounts, which are preceded by a `@`\n"
      ],
      "id": "wvirpszeG4-G"
    },
    {
      "cell_type": "code",
      "metadata": {
        "id": "6BvTlh5UG5cj"
      },
      "source": [
        "count_mentions = main_df['tweet'].apply(lambda x: len(re.findall(r'@\\w+', x)))\n",
        "\n",
        "main_df['count_mentions'] = count_mentions"
      ],
      "id": "6BvTlh5UG5cj",
      "execution_count": null,
      "outputs": []
    },
    {
      "cell_type": "markdown",
      "metadata": {
        "id": "V6Ngd0jnTXId"
      },
      "source": [
        "Most of the tweets don't have mentions, and few real ones have one or two."
      ],
      "id": "V6Ngd0jnTXId"
    },
    {
      "cell_type": "code",
      "metadata": {
        "colab": {
          "base_uri": "https://localhost:8080/",
          "height": 497
        },
        "id": "8dD_VRUlTXjf",
        "outputId": "6d1f239f-5e3e-4972-dd57-eed87035f0ec"
      },
      "source": [
        "fig, ax = plt.subplots(figsize = (16,8))\n",
        "\n",
        "#plot:\n",
        "sns.histplot(data = main_df[main_df['count_mentions'] <= 10],\n",
        "             x = 'count_mentions', \n",
        "             hue = 'label', \n",
        "             binwidth = .5,\n",
        "             kde = False,\n",
        "             multiple=\"dodge\", \n",
        "             palette = (colours[1], colours[3]));"
      ],
      "id": "8dD_VRUlTXjf",
      "execution_count": null,
      "outputs": [
        {
          "output_type": "display_data",
          "data": {
            "image/png": "[encoded data removed]",
            "text/plain": [
              "<Figure size 1152x576 with 1 Axes>"
            ]
          },
          "metadata": {
            "tags": []
          }
        }
      ]
    },
    {
      "cell_type": "markdown",
      "metadata": {
        "id": "SDmWkbAOIH_b"
      },
      "source": [
        "* count hashtags : number of tag words, preceded by a #"
      ],
      "id": "SDmWkbAOIH_b"
    },
    {
      "cell_type": "code",
      "metadata": {
        "id": "aYc9VrPRIIyq"
      },
      "source": [
        "count_hashtags = main_df['tweet'].apply(lambda x: len(re.findall(r'#\\w+', x)))\n",
        "\n",
        "main_df['count_hashtags'] = count_hashtags"
      ],
      "id": "aYc9VrPRIIyq",
      "execution_count": null,
      "outputs": []
    },
    {
      "cell_type": "markdown",
      "metadata": {
        "id": "bOtyts-VWZvd"
      },
      "source": [
        "Most of the tweets do not contain hash tags, and the few that have tend to be real, maybe it can make a difference during training depending on if we get rid of it or not in text processing."
      ],
      "id": "bOtyts-VWZvd"
    },
    {
      "cell_type": "code",
      "metadata": {
        "colab": {
          "base_uri": "https://localhost:8080/",
          "height": 497
        },
        "id": "cb9cakGUWZZC",
        "outputId": "7ee9b904-cb1b-4bc8-ac9f-ea0ccf3cb504"
      },
      "source": [
        "fig, ax = plt.subplots(figsize = (16,8))\n",
        "\n",
        "#plot:\n",
        "sns.histplot(data = main_df[main_df['count_hashtags'] <= 10],\n",
        "             x = 'count_hashtags', \n",
        "             hue = 'label', \n",
        "             stat = 'frequency',\n",
        "             binwidth = .5,\n",
        "             kde = False,\n",
        "             multiple=\"dodge\", \n",
        "             palette = (colours[1], colours[3]));"
      ],
      "id": "cb9cakGUWZZC",
      "execution_count": null,
      "outputs": [
        {
          "output_type": "display_data",
          "data": {
            "image/png": "[encoded data removed]",
            "text/plain": [
              "<Figure size 1152x576 with 1 Axes>"
            ]
          },
          "metadata": {
            "tags": []
          }
        }
      ]
    },
    {
      "cell_type": "markdown",
      "metadata": {
        "id": "ykqDTnSnIJKs"
      },
      "source": [
        "* count capital words : number of uppercase words, could be used to somehow \"shout accusations\" and \"denounce conspiracy\" "
      ],
      "id": "ykqDTnSnIJKs"
    },
    {
      "cell_type": "code",
      "metadata": {
        "id": "v0w0C9aXIJks"
      },
      "source": [
        "count_caps = main_df['tweet'].apply(lambda x: len(re.findall(r'\\b[A-Z]{2,}\\b', x)))\n",
        "\n",
        "main_df['count_caps'] = count_caps"
      ],
      "id": "v0w0C9aXIJks",
      "execution_count": null,
      "outputs": []
    },
    {
      "cell_type": "markdown",
      "metadata": {
        "id": "UAhESZlwZmFa"
      },
      "source": [
        "Most of the tweets do not contain capitalized words and so it probably won't have any effect if we `lower()` our texts."
      ],
      "id": "UAhESZlwZmFa"
    },
    {
      "cell_type": "code",
      "metadata": {
        "colab": {
          "base_uri": "https://localhost:8080/",
          "height": 497
        },
        "id": "NF4vsrv-Zmhg",
        "outputId": "2b4e3d24-aa2d-41e5-f16d-29777b883e5c"
      },
      "source": [
        "fig, ax = plt.subplots(figsize = (16,8))\n",
        "\n",
        "#plot:\n",
        "sns.histplot(data = main_df[main_df['count_caps'] <= 8],\n",
        "             x = 'count_caps', \n",
        "             hue = 'label', \n",
        "             stat = 'frequency',\n",
        "             binwidth = .5,\n",
        "             kde = False,\n",
        "             multiple=\"dodge\", \n",
        "             palette = (colours[1], colours[3]));"
      ],
      "id": "NF4vsrv-Zmhg",
      "execution_count": null,
      "outputs": [
        {
          "output_type": "display_data",
          "data": {
            "image/png": "[encoded data removed]",
            "text/plain": [
              "<Figure size 1152x576 with 1 Axes>"
            ]
          },
          "metadata": {
            "tags": []
          }
        }
      ]
    },
    {
      "cell_type": "markdown",
      "metadata": {
        "id": "DZ2H_xX_IJ0p"
      },
      "source": [
        "* count exclamation/question marks : number of question or exclamation marks"
      ],
      "id": "DZ2H_xX_IJ0p"
    },
    {
      "cell_type": "code",
      "metadata": {
        "id": "xAjhQNypIKOs"
      },
      "source": [
        "count_excl_quest_marks = main_df['tweet'].apply(lambda x: len(re.findall(r'!|\\?', x)))\n",
        "\n",
        "main_df['count_excl_quest_marks'] = count_excl_quest_marks"
      ],
      "id": "xAjhQNypIKOs",
      "execution_count": null,
      "outputs": []
    },
    {
      "cell_type": "markdown",
      "metadata": {
        "id": "X8YNjgYNaCl5"
      },
      "source": [
        "The fake tweets seem to be using a bit more exclamation or question marks than the real ones."
      ],
      "id": "X8YNjgYNaCl5"
    },
    {
      "cell_type": "code",
      "metadata": {
        "colab": {
          "base_uri": "https://localhost:8080/",
          "height": 497
        },
        "id": "2PeoKxOGaC6l",
        "outputId": "9be1cd07-ceab-4138-9e75-ba202a642953"
      },
      "source": [
        "fig, ax = plt.subplots(figsize = (16,8))\n",
        "\n",
        "#plot:\n",
        "sns.histplot(data = main_df[main_df['count_excl_quest_marks'] <= 8],\n",
        "             x = 'count_excl_quest_marks', \n",
        "             hue = 'label', \n",
        "             stat = 'frequency',\n",
        "             binwidth = .5,\n",
        "             kde = False,\n",
        "             multiple=\"dodge\", \n",
        "             palette = (colours[1], colours[3]));"
      ],
      "id": "2PeoKxOGaC6l",
      "execution_count": null,
      "outputs": [
        {
          "output_type": "display_data",
          "data": {
            "image/png": "[encoded data removed]",
            "text/plain": [
              "<Figure size 1152x576 with 1 Axes>"
            ]
          },
          "metadata": {
            "tags": []
          }
        }
      ]
    },
    {
      "cell_type": "markdown",
      "metadata": {
        "id": "ey6KiSPXG5uT"
      },
      "source": [
        "* count URLs : number of links in the tweet, preceded by http(s), might be a source that can be verified/denied."
      ],
      "id": "ey6KiSPXG5uT"
    },
    {
      "cell_type": "code",
      "metadata": {
        "id": "zWeCfG5cG56R"
      },
      "source": [
        "count_urls = main_df['tweet'].apply(lambda x: len(re.findall(r'http.?://[^\\s]+[\\s]?', x)))\n",
        "\n",
        "main_df['count_urls'] = count_urls"
      ],
      "id": "zWeCfG5cG56R",
      "execution_count": null,
      "outputs": []
    },
    {
      "cell_type": "markdown",
      "metadata": {
        "id": "gGaoHXskJQno"
      },
      "source": [
        "It seems that more real tweets use URLS than fake ones, which seems a bit logical, maybe taking into account the tweets with verifiable urls might help our classification"
      ],
      "id": "gGaoHXskJQno"
    },
    {
      "cell_type": "code",
      "metadata": {
        "colab": {
          "base_uri": "https://localhost:8080/",
          "height": 497
        },
        "id": "fbG3IwF4MXG4",
        "outputId": "15b158a3-242d-4d99-83aa-6b45cb145741"
      },
      "source": [
        "fig, ax = plt.subplots(figsize = (16,8))\n",
        "\n",
        "#plot:\n",
        "sns.histplot(data = main_df[main_df['count_urls'] <= 10],\n",
        "             x = 'count_urls', \n",
        "             hue = 'label', \n",
        "             stat = 'frequency',\n",
        "             binwidth = .3,\n",
        "             kde = False,\n",
        "             multiple=\"dodge\", \n",
        "             palette = (colours[1], colours[3]));"
      ],
      "id": "fbG3IwF4MXG4",
      "execution_count": null,
      "outputs": [
        {
          "output_type": "display_data",
          "data": {
            "image/png": "[encoded data removed]",
            "text/plain": [
              "<Figure size 1152x576 with 1 Axes>"
            ]
          },
          "metadata": {
            "tags": []
          }
        }
      ]
    },
    {
      "cell_type": "markdown",
      "metadata": {
        "id": "OTOXOu_hiiNQ"
      },
      "source": [
        "And finally, we count the number of emojis in each tweet : (we use the module `emoji`)"
      ],
      "id": "OTOXOu_hiiNQ"
    },
    {
      "cell_type": "code",
      "metadata": {
        "id": "1jJwsAANiikJ"
      },
      "source": [
        "count_emojis = main_df['tweet'].apply(lambda x: emoji.demojize(x)).apply(lambda x: len(re.findall(r':[a-z_&]+:', x)))\n",
        "\n",
        "main_df['count_emojis'] = count_emojis"
      ],
      "id": "1jJwsAANiikJ",
      "execution_count": null,
      "outputs": []
    },
    {
      "cell_type": "markdown",
      "metadata": {
        "id": "jPp3UKCWii7T"
      },
      "source": [
        "We can see that quasi all the tweets do not use emojis, hence it would not make that much of a difference to leave them."
      ],
      "id": "jPp3UKCWii7T"
    },
    {
      "cell_type": "code",
      "metadata": {
        "colab": {
          "base_uri": "https://localhost:8080/",
          "height": 497
        },
        "id": "qqrVl98-ijWr",
        "outputId": "ad70a809-7d41-46d1-e178-5fb3977e18f9"
      },
      "source": [
        "fig, ax = plt.subplots(figsize = (16,8))\n",
        "\n",
        "#plot:\n",
        "sns.histplot(data = main_df[main_df['count_emojis'] <= 8],\n",
        "             x = 'count_emojis', \n",
        "             hue = 'label', \n",
        "             stat = 'frequency',\n",
        "             binwidth = .5,\n",
        "             kde = False,\n",
        "             multiple=\"dodge\", \n",
        "             palette = (colours[1], colours[3]));"
      ],
      "id": "qqrVl98-ijWr",
      "execution_count": null,
      "outputs": [
        {
          "output_type": "display_data",
          "data": {
            "image/png": "[encoded data removed]",
            "text/plain": [
              "<Figure size 1152x576 with 1 Axes>"
            ]
          },
          "metadata": {
            "tags": []
          }
        }
      ]
    },
    {
      "cell_type": "markdown",
      "metadata": {
        "id": "worst-harmony"
      },
      "source": [
        "# 2) Data modelling:\n",
        "\n",
        "Here we will try to build a model and train in order to predict our `label` variable:"
      ],
      "id": "worst-harmony"
    },
    {
      "cell_type": "markdown",
      "metadata": {
        "id": "distributed-skating"
      },
      "source": [
        "## Set up and text processing:\n",
        "\n",
        "We first convert the class labels into binary numerical variables for convenience:"
      ],
      "id": "distributed-skating"
    },
    {
      "cell_type": "code",
      "metadata": {
        "id": "9EhrTlL-wPPc"
      },
      "source": [
        "main_df['label'] = main_df.label.map({'real':1, 'fake':0})"
      ],
      "id": "9EhrTlL-wPPc",
      "execution_count": null,
      "outputs": []
    },
    {
      "cell_type": "markdown",
      "metadata": {
        "id": "kyKLhlQSwwjf"
      },
      "source": [
        "We preprocess our tweets for a better performance:"
      ],
      "id": "kyKLhlQSwwjf"
    },
    {
      "cell_type": "code",
      "metadata": {
        "id": "ZTc3VwxiwwWy"
      },
      "source": [
        "stopwords = stop_words.ENGLISH_STOP_WORDS\n",
        "\n",
        "def clean(text): \n",
        "\n",
        "  \"\"\" Takes a string of text and preprocess it, by removing hashtapgs, punctuations, numbers and tokenizing\"\"\"\n",
        "#  text = re.sub(r'@\\w+', '', text) # remove mentions \n",
        "  text = text.replace(\"#\", \"\") # remove the hashtag character\n",
        "  text = text.replace(\"RT\", \"\") # remove the retweet mention\n",
        "  text = text.lower() # lowercase\n",
        "  text = \"\".join([char for char in text if char not in string.punctuation and not char.isdigit()]) #remove punctuation and numbers\n",
        "  text = \" \".join([token for token in text.split() if token not in stopwords]) \n",
        "# porter = PorterStemmer()\n",
        "# text = \" \".join([porter.stem(word) for word in text.split()]) #stemming #it actually works better without\n",
        "\n",
        "  return text"
      ],
      "id": "ZTc3VwxiwwWy",
      "execution_count": null,
      "outputs": []
    },
    {
      "cell_type": "markdown",
      "metadata": {
        "id": "oeT6jrBkzSxy"
      },
      "source": [
        "**NOTE:** There is a nice and elegant library (and also more compact way) for tweet preprocessing in Python: [Preprocessor](https://github.com/s/preprocessor)"
      ],
      "id": "oeT6jrBkzSxy"
    },
    {
      "cell_type": "markdown",
      "metadata": {
        "id": "_kY47t8SwwJZ"
      },
      "source": [
        "Here is an example of how the clean functions works, applied to one of my favourite tweetter accounts:"
      ],
      "id": "_kY47t8SwwJZ"
    },
    {
      "cell_type": "code",
      "metadata": {
        "colab": {
          "base_uri": "https://localhost:8080/",
          "height": 35
        },
        "id": "8Q3PJbcP2yZm",
        "outputId": "4cd7b2e5-2f7b-4e20-e940-1fa6a68a3ea1"
      },
      "source": [
        "text = '@KyloR3n hello @hottopic i want a shirt that says I’m a different person but it should be the same color and basically the same shirt'\n",
        "\n",
        "clean(text)"
      ],
      "id": "8Q3PJbcP2yZm",
      "execution_count": null,
      "outputs": [
        {
          "output_type": "execute_result",
          "data": {
            "application/vnd.google.colaboratory.intrinsic+json": {
              "type": "string"
            },
            "text/plain": [
              "'hello want shirt say i’m differ person color basic shirt'"
            ]
          },
          "metadata": {
            "tags": []
          },
          "execution_count": 23
        }
      ]
    },
    {
      "cell_type": "markdown",
      "metadata": {
        "id": "PKZcBKLwljqs"
      },
      "source": [
        "Finally, let us clean our data and regroup everything together:"
      ],
      "id": "PKZcBKLwljqs"
    },
    {
      "cell_type": "code",
      "metadata": {
        "id": "J6_232177EZL"
      },
      "source": [
        "clean_tweet = main_df['tweet'].apply(clean)\n",
        "\n",
        "main_df['clean_tweet'] = clean_tweet\n",
        "\n",
        "main_df = main_df.drop(['tweet'], axis = 1)"
      ],
      "id": "J6_232177EZL",
      "execution_count": null,
      "outputs": []
    },
    {
      "cell_type": "markdown",
      "metadata": {
        "id": "V2si2oEclYtM"
      },
      "source": [
        "**NOTE:** We make sure that our cleaned tweets have no empty entry:"
      ],
      "id": "V2si2oEclYtM"
    },
    {
      "cell_type": "code",
      "metadata": {
        "colab": {
          "base_uri": "https://localhost:8080/"
        },
        "id": "WeCmVLQP7EWK",
        "outputId": "d387d9ef-0e09-4c2c-92ce-6f8009c1e7f1"
      },
      "source": [
        "np.where(pd.isnull(main_df))"
      ],
      "id": "WeCmVLQP7EWK",
      "execution_count": null,
      "outputs": [
        {
          "output_type": "execute_result",
          "data": {
            "text/plain": [
              "(array([], dtype=int64), array([], dtype=int64))"
            ]
          },
          "metadata": {
            "tags": []
          },
          "execution_count": 25
        }
      ]
    },
    {
      "cell_type": "markdown",
      "metadata": {
        "id": "-2W4dABOncFS"
      },
      "source": [
        "Now, we can see the distribution of the words per frequency in all the tweets"
      ],
      "id": "-2W4dABOncFS"
    },
    {
      "cell_type": "code",
      "metadata": {
        "id": "_O-svHJdmr85"
      },
      "source": [
        "vect = CountVectorizer()\n",
        "bag = vect.fit_transform(clean_tweet)\n",
        "word_freq = dict(zip(vect.get_feature_names(), np.asarray(bag.sum(axis=0)).ravel()))\n",
        "word_count = collections.Counter(word_freq)\n",
        "word_count_df = pd.DataFrame(word_count.most_common(20), columns = ['word', 'frequency'])"
      ],
      "id": "_O-svHJdmr85",
      "execution_count": null,
      "outputs": []
    },
    {
      "cell_type": "markdown",
      "metadata": {
        "id": "uT2k7Rponpcz"
      },
      "source": [
        "We observe that *covid* is obviously the most common word, words like *case*, *test*, *report*, *death* are common as well."
      ],
      "id": "uT2k7Rponpcz"
    },
    {
      "cell_type": "code",
      "metadata": {
        "colab": {
          "base_uri": "https://localhost:8080/",
          "height": 493
        },
        "id": "BeVmgO8Vmr6c",
        "outputId": "8af4dbfb-9c97-404d-fb63-da86e97e94f8"
      },
      "source": [
        "fig, ax = plt.subplots(figsize = (16,8))\n",
        "\n",
        "#plot:\n",
        "bar_freq_word = sns.barplot(x=\"word\", y=\"frequency\", data=word_count_df, palette=\"BuPu\", ax=ax)"
      ],
      "id": "BeVmgO8Vmr6c",
      "execution_count": null,
      "outputs": [
        {
          "output_type": "display_data",
          "data": {
            "image/png": "[encoded data removed]",
            "text/plain": [
              "<Figure size 1152x576 with 1 Axes>"
            ]
          },
          "metadata": {
            "tags": []
          }
        }
      ]
    },
    {
      "cell_type": "markdown",
      "metadata": {
        "id": "gPagpyM37X3l"
      },
      "source": [
        "## Data modelling:\n",
        "\n",
        "Our model is about **classification**, where we are predicting a **categorical variable** : `label`. It has **labeled data** of less than 100.000 samples. Using Scikit Learn's [documentation](https://scikit-learn.org/stable/user_guide.html) we opt for the following models:\n",
        "\n",
        "* Log Reg : [LogisticRegression](https://scikit-learn.org/stable/modules/generated/sklearn.linear_model.LogisticRegression.html)\n",
        "* MultinomialNB : [Naive Bayes](https://scikit-learn.org/stable/modules/naive_bayes.html)\n",
        "* Linear SVC : [Support Vector Classification](https://scikit-learn.org/stable/modules/generated/sklearn.svm.SVC.html#sklearn.svm.SVC)\n",
        "* XGBoost : [XGBoost](https://xgboost.ai/)."
      ],
      "id": "gPagpyM37X3l"
    },
    {
      "cell_type": "code",
      "metadata": {
        "id": "uOGDUMZzsb5x"
      },
      "source": [
        "X_train, X_val, y_train, y_val = train_test_split(main_df.drop(['label'], axis=1), main_df.label, test_size=0.2, random_state=1729)"
      ],
      "id": "uOGDUMZzsb5x",
      "execution_count": null,
      "outputs": []
    },
    {
      "cell_type": "markdown",
      "metadata": {
        "id": "ayyp0jHw7M88"
      },
      "source": [
        "In order to see which model performs the best, we proceed as follow:\n",
        "\n",
        "#### 1. Instantiate each model in a dictionary:"
      ],
      "id": "ayyp0jHw7M88"
    },
    {
      "cell_type": "code",
      "metadata": {
        "id": "yHxpRz5t7Ege"
      },
      "source": [
        "models = {'logReg': LogisticRegression(max_iter = 1000),\n",
        "          'MultiNB': MultinomialNB(),\n",
        "          'lSVC': LinearSVC(class_weight='balanced'),\n",
        "          'XGB': XGBClassifier(use_label_encoder=False)}"
      ],
      "id": "yHxpRz5t7Ege",
      "execution_count": null,
      "outputs": []
    },
    {
      "cell_type": "markdown",
      "metadata": {
        "id": "zDDlrDU294PN"
      },
      "source": [
        "#### 2. Create function to preprocess, vectorize the training and validation data, fits and scores models:"
      ],
      "id": "zDDlrDU294PN"
    },
    {
      "cell_type": "code",
      "metadata": {
        "id": "kIS5zEMl7EeF"
      },
      "source": [
        "def mod_score(models, X_train, X_test, y_train, y_test, vect=CountVectorizer()):\n",
        "  '''\n",
        "  Takes a dictionarry of models and fits each on a training set and returns its score on a test set\n",
        "  '''\n",
        "  # empty dict to append\n",
        "  results = {}\n",
        "  # ffeature extraction:\n",
        "  X_train_vect = vect.fit_transform(X_train.clean_tweet) \n",
        "  #transform testing data (using training data's features)\n",
        "  X_test_vect = vect.transform(X_test.clean_tweet)\n",
        "  for name, model in models.items() :\n",
        "      model.fit(X_train_vect, y_train)\n",
        "      results[name] = model.score(X_test_vect, y_test)\n",
        "\n",
        "  return results"
      ],
      "id": "kIS5zEMl7EeF",
      "execution_count": null,
      "outputs": []
    },
    {
      "cell_type": "markdown",
      "metadata": {
        "id": "sDojyv4Au-9v"
      },
      "source": [
        "#### 3. View the results:"
      ],
      "id": "sDojyv4Au-9v"
    },
    {
      "cell_type": "code",
      "metadata": {
        "id": "0Ms47WyW7Ebi"
      },
      "source": [
        "mod_scores_vect = mod_score(models, X_train, X_val, y_train, y_val)"
      ],
      "id": "0Ms47WyW7Ebi",
      "execution_count": null,
      "outputs": []
    },
    {
      "cell_type": "code",
      "metadata": {
        "colab": {
          "base_uri": "https://localhost:8080/",
          "height": 512
        },
        "id": "vYOnPLRo7ETy",
        "outputId": "b3841946-d73d-45a3-9013-1732956b412c"
      },
      "source": [
        "fig, ax = plt.subplots(figsize = (8,8))\n",
        "\n",
        "# plot \n",
        "pd.DataFrame(mod_scores_vect.values(), \n",
        "             mod_scores_vect.keys(), \n",
        "             columns=['accuracy']\n",
        "            ).reset_index().sort_values(by = 'accuracy').plot(x = 'index',\n",
        "                                 y = 'accuracy', \n",
        "                                 ax = ax,\n",
        "                                 kind = 'barh',\n",
        "                                 color = colours,\n",
        "                                 legend = False)\n",
        "\n",
        "# plot infos:\n",
        "plt.style.use('seaborn-whitegrid')\n",
        "plt.title('Models score using CountVectoriser')\n",
        "plt.ylabel('Classifiers')\n",
        "plt.xlabel('accuracy score')\n",
        "\n",
        "plt.xticks(rotation = 0);"
      ],
      "id": "vYOnPLRo7ETy",
      "execution_count": null,
      "outputs": [
        {
          "output_type": "display_data",
          "data": {
            "image/png": "[encoded data removed]",
            "text/plain": [
              "<Figure size 576x576 with 1 Axes>"
            ]
          },
          "metadata": {
            "tags": []
          }
        }
      ]
    },
    {
      "cell_type": "markdown",
      "metadata": {
        "id": "FXhh9OyE12qd"
      },
      "source": [
        "SVM's linear SVC and LogisticRegression both achieved an acuuracy of 92%! thats sounds great."
      ],
      "id": "FXhh9OyE12qd"
    },
    {
      "cell_type": "markdown",
      "metadata": {
        "id": "9ae5ZjjE2wML"
      },
      "source": [
        "## Hyperparameters tuning:\n",
        "\n",
        "This is somehow, the most expensive, time and ressources consuming step of the workflow. As the vectorizers and the classification models have both tuneable parameters, and due to the small size of our sample (8650 tweets only) we use ` GridSearchCV` to select the best parameters on a 5-fold cross-validation. For compactness and practicality, and mostly since we would like to find the best parameters for both the vectorizer and the classification model, I took the liberty to do all that in a Pipeline that I saved from one of my previous projects on a GPU, something similar to [this](https://scikit-learn.org/stable/auto_examples/model_selection/grid_search_text_feature_extraction.html)."
      ],
      "id": "9ae5ZjjE2wML"
    },
    {
      "cell_type": "markdown",
      "metadata": {
        "id": "QgSyaowZ7QHV"
      },
      "source": [
        "Here are the grid parameters that I used for tunning:"
      ],
      "id": "QgSyaowZ7QHV"
    },
    {
      "cell_type": "code",
      "metadata": {
        "id": "bd70HwodsH2e"
      },
      "source": [
        "## Vectorizers hyperparameters:\n",
        "# BOW hyperparameters\n",
        "vect_grid = {'features__pipe__vect__max_df': (0.25, 0.5, 0.75),\n",
        "             'features__pipe__vect__min_df': (1,2) }\n",
        "# TF-IDF hyperparaleters\n",
        "tfidf_grid = {'features__pipe__vect__analyzer' : ('word', 'char'),\n",
        "              'features__pipe__vect__ngram_range': ((1, 3), (3, 7), (5, 7), (2, 2), (1, 2)),\n",
        "              'features__pipe__vect__binary' : (True, False) }\n",
        "\n",
        "## Classifiers hyperparameters:\n",
        "# logReg hyperparameters\n",
        "logReg_grid = {'model__C': (0.001, 0.01, 0.1, 1, 10, 100, 1000),\n",
        "               'model__solver': ['lbfgs', 'liblinear'],\n",
        "               'model__penalty' : ('l1', 'l2')}\n",
        "\n",
        "# MultionomialNB hyperparameters\n",
        "MultiNB_grid = {'model__alpha': (0.25, 0.5, 0.75)}\n",
        "\n",
        "# SVC hyperparameters\n",
        "lSVC_grid = {'model__C': (.05, .12, .25, .5, 1, 2, 4)}"
      ],
      "id": "bd70HwodsH2e",
      "execution_count": null,
      "outputs": []
    },
    {
      "cell_type": "markdown",
      "metadata": {
        "id": "itDhzzxK6uLQ"
      },
      "source": [
        "#### 1- logReg:\n",
        "\n",
        "Using the *bag of words* approach : [CountVectorizer](https://scikit-learn.org/stable/modules/generated/sklearn.feature_extraction.text.CountVectorizer.html) : `vect=CountVectorizer()`"
      ],
      "id": "itDhzzxK6uLQ"
    },
    {
      "cell_type": "markdown",
      "metadata": {
        "id": "uz9grxP49H_W"
      },
      "source": [
        "```\n",
        "Best CV score: 0.933\n",
        "Best parameters set:\n",
        "\tmodel__C: 100\n",
        "\tmodel__penalty: 'l2'\n",
        "\tmodel__solver: 'liblinear'\n",
        "\tfeatures__pipe__vect__binary: True\n",
        "\tfeatures__pipe__vect__max_df: 0.5\n",
        "\tfeatures__pipe__vect__min_df: 1\n",
        "\tfeatures__pipe__vect__ngram_range: (1, 2)\n",
        "Val score with best_estimator_: 0.926\n",
        "\n",
        "======================================================\n",
        "Classification Report Test Data\n",
        "======================================================\n",
        "              precision    recall  f1-score   support\n",
        "======================================================\n",
        "        fake       0.92      0.93      0.92       812\n",
        "        real       0.94      0.92      0.93       900\n",
        "======================================================\n",
        "    accuracy                           0.93      1712\n",
        "   macro avg       0.93      0.93      0.93      1712\n",
        "weighted avg       0.93      0.93      0.93      1712\n",
        "======================================================\n",
        "```"
      ],
      "id": "uz9grxP49H_W"
    },
    {
      "cell_type": "markdown",
      "metadata": {
        "id": "blo3JDuB_N8D"
      },
      "source": [
        "Using Term Frequency - Inverse Document Frequency : [TF - IDF](https://scikit-learn.org/stable/modules/generated/sklearn.feature_extraction.text.TfidfVectorizer.html)"
      ],
      "id": "blo3JDuB_N8D"
    },
    {
      "cell_type": "markdown",
      "metadata": {
        "id": "B8fKi458KqBe"
      },
      "source": [
        "```\n",
        "Best CV score: 0.940\n",
        "Best parameters set:\n",
        "\tmodel__C: 1000\n",
        "\tmodel__penalty: 'l2'\n",
        "\tmodel__solver: 'liblinear'\n",
        "\tfeatures__pipe__vect__binary: True\n",
        "\tfeatures__pipe__vect__max_df: 0.5\n",
        "\tfeatures__pipe__vect__min_df: 1\n",
        "\tfeatures__pipe__vect__ngram_range: (1, 2)\n",
        "Val score with best_estimator_: 0.933\n",
        "\n",
        "======================================================\n",
        "Classification Report Test Data\n",
        "======================================================\n",
        "              precision    recall  f1-score   support\n",
        "======================================================\n",
        "        fake       0.94      0.92      0.93       812\n",
        "        real       0.93      0.95      0.94       900\n",
        "======================================================\n",
        "    accuracy                           0.93      1712\n",
        "   macro avg       0.93      0.93      0.93      1712\n",
        "weighted avg       0.93      0.93      0.93      1712\n",
        "======================================================\n",
        "```"
      ],
      "id": "B8fKi458KqBe"
    },
    {
      "cell_type": "code",
      "metadata": {
        "id": "fCQz7DU816Xc"
      },
      "source": [
        "vect_cstm_logReg = CountVectorizer(binary=True, max_df=0.5, min_df= 1, ngram_range=(1, 2))\n",
        "logReg_vect_cstm = LogisticRegression(max_iter = 1000, C=100, penalty='l2', solver='liblinear')\n",
        "\n",
        "tfidf_cstm_lorReg = TfidfVectorizer(binary=True, max_df=0.5, min_df=1, ngram_range=(1, 2))\n",
        "logReg_tfidf_cstm = LogisticRegression(max_iter = 1000, C=1000, penalty='l2', solver='liblinear')"
      ],
      "id": "fCQz7DU816Xc",
      "execution_count": null,
      "outputs": []
    },
    {
      "cell_type": "markdown",
      "metadata": {
        "id": "qshpgXnECGDA"
      },
      "source": [
        "#### 2- MultiNB:\n",
        "\n",
        "Using the *bag of words* approach : [CountVectorizer](https://scikit-learn.org/stable/modules/generated/sklearn.feature_extraction.text.CountVectorizer.html) : `vect=CountVectorizer()`"
      ],
      "id": "qshpgXnECGDA"
    },
    {
      "cell_type": "markdown",
      "metadata": {
        "id": "VA0uoq7L9WvV"
      },
      "source": [
        "```\n",
        "Best CV score: 0.927\n",
        "Best parameters set:\n",
        "\tmodel__alpha: 0.25\n",
        "\tfeatures__pipe__vect__binary: True\n",
        "\tfeatures__pipe__vect__max_df: 0.25\n",
        "\tfeatures__pipe__vect__min_df: 1\n",
        "\tfeatures__pipe__vect__ngram_range: (1, 2)\n",
        "Val score with best_estimator_: 0.928\n",
        "\n",
        "Classification Report Val Data\n",
        "======================================================\n",
        "              precision    recall  f1-score   support\n",
        "======================================================\n",
        "        fake       0.94      0.90      0.92       812\n",
        "        real       0.91      0.95      0.93       900\n",
        "======================================================\n",
        "    accuracy                           0.93      1712\n",
        "   macro avg       0.93      0.93      0.93      1712\n",
        "weighted avg       0.93      0.93      0.93      1712\n",
        "======================================================\n",
        "```"
      ],
      "id": "VA0uoq7L9WvV"
    },
    {
      "cell_type": "markdown",
      "metadata": {
        "id": "WObQQ1j8CP1e"
      },
      "source": [
        "Using Term Frequency - Inverse Document Frequency : [TF - IDF](https://scikit-learn.org/stable/modules/generated/sklearn.feature_extraction.text.TfidfVectorizer.html)"
      ],
      "id": "WObQQ1j8CP1e"
    },
    {
      "cell_type": "markdown",
      "metadata": {
        "id": "oBriYP3S9hb4"
      },
      "source": [
        "```\n",
        "Best CV score: 0.916\n",
        "Best parameters set:\n",
        "\tmodel__alpha: 0.25\n",
        "\tfeatures__pipe__vect__binary: False\n",
        "\tfeatures__pipe__vect__max_df: 0.25\n",
        "\tfeatures__pipe__vect__min_df: 2\n",
        "\tfeatures__pipe__vect__ngram_range: (1, 2)\n",
        "Val score with best_estimator_: 0.912\n",
        "\n",
        "======================================================\n",
        "Classification Report Test Data\n",
        "======================================================\n",
        "              precision    recall  f1-score   support\n",
        "======================================================\n",
        "        fake       0.94      0.87      0.90       812\n",
        "        real       0.89      0.95      0.92       900\n",
        "======================================================\n",
        "    accuracy                           0.91      1712\n",
        "   macro avg       0.91      0.91      0.91      1712\n",
        "weighted avg       0.91      0.91      0.91      1712\n",
        "======================================================\n",
        "```"
      ],
      "id": "oBriYP3S9hb4"
    },
    {
      "cell_type": "code",
      "metadata": {
        "id": "NSxb5lCA23r4"
      },
      "source": [
        "vect_cstm_MultiNB = CountVectorizer(binary=True, max_df=0.25, min_df=1, ngram_range=(1, 2))\n",
        "MultiNB_vect_cstm = MultinomialNB(alpha=0.25)\n",
        "\n",
        "tfidf_cstm_MultiNB = TfidfVectorizer(binary=False, max_df=0.25, min_df=2, ngram_range=(1, 2))\n",
        "MultiNB_tfidf_cstm = MultinomialNB(alpha=0.25)"
      ],
      "id": "NSxb5lCA23r4",
      "execution_count": null,
      "outputs": []
    },
    {
      "cell_type": "markdown",
      "metadata": {
        "id": "F1T7iN89C6ro"
      },
      "source": [
        "#### 3- linear SVC:\n",
        "\n",
        "Using the *bag of words* approach : [CountVectorizer](https://scikit-learn.org/stable/modules/generated/sklearn.feature_extraction.text.CountVectorizer.html) : `vect=CountVectorizer()`"
      ],
      "id": "F1T7iN89C6ro"
    },
    {
      "cell_type": "markdown",
      "metadata": {
        "id": "S50GN7gwKOub"
      },
      "source": [
        "```\n",
        "Best CV score: 0.935\n",
        "Best parameters set:\n",
        "\tmodel__C: 0.25\n",
        "\tfeatures__pipe__vect__binary: True\n",
        "\tfeatures__pipe__vect__max_df: 0.5\n",
        "\tfeatures__pipe__vect__min_df: 1\n",
        "\tfeatures__pipe__vect__ngram_range: (1, 2)\n",
        "Val score with best_estimator_: 0.925\n",
        "\n",
        "======================================================\n",
        "Classification Report Test Data\n",
        "======================================================\n",
        "              precision    recall  f1-score   support\n",
        "======================================================\n",
        "        fake       0.91      0.93      0.92       812\n",
        "        real       0.94      0.92      0.93       900\n",
        "======================================================\n",
        "    accuracy                           0.93      1712\n",
        "   macro avg       0.92      0.93      0.93      1712\n",
        "weighted avg       0.93      0.93      0.93      1712\n",
        "======================================================\n",
        "```"
      ],
      "id": "S50GN7gwKOub"
    },
    {
      "cell_type": "markdown",
      "metadata": {
        "id": "WkNwIZiZC7VQ"
      },
      "source": [
        "Using Term Frequency - Inverse Document Frequency : [TF - IDF](https://scikit-learn.org/stable/modules/generated/sklearn.feature_extraction.text.TfidfVectorizer.html)"
      ],
      "id": "WkNwIZiZC7VQ"
    },
    {
      "cell_type": "markdown",
      "metadata": {
        "id": "7neXEX5B4kN4"
      },
      "source": [
        "```\n",
        "Best CV score: 0.935\n",
        "Best parameters set:\n",
        "\tmodel__C: 0.7999999999999998\n",
        "\tfeatures__pipe__vect__binary: False\n",
        "\tfeatures__pipe__vect__max_df: 0.5\n",
        "\tfeatures__pipe__vect__min_df: 2\n",
        "\tfeatures__pipe__vect__ngram_range: (1, 3)\n",
        "Val score with best_estimator_: 0.925\n",
        "\n",
        "======================================================\n",
        "Classification Report Test Data\n",
        "======================================================\n",
        "              precision    recall  f1-score   support\n",
        "======================================================\n",
        "        fake       0.95      0.89      0.92       812\n",
        "        real       0.90      0.96      0.93       900\n",
        "======================================================\n",
        "    accuracy                           0.92      1712\n",
        "   macro avg       0.93      0.92      0.92      1712\n",
        "weighted avg       0.93      0.92      0.92      1712\n",
        "======================================================\n",
        "```"
      ],
      "id": "7neXEX5B4kN4"
    },
    {
      "cell_type": "code",
      "metadata": {
        "id": "ZAgM-_913xIp"
      },
      "source": [
        "vect_cstm_lSVC = CountVectorizer(binary=True, max_df=0.5, min_df=1, ngram_range=(1, 2))\n",
        "lSVC_vect_cstm = LinearSVC(class_weight='balanced', C=0.25)\n",
        "\n",
        "tfidf_cstm_lSVC = TfidfVectorizer(binary=False, max_df=0.5, min_df=2, ngram_range=(1, 3))\n",
        "lSVC_tfidf_cstm = LinearSVC(class_weight='balanced', C=0.7999999999999998)"
      ],
      "id": "ZAgM-_913xIp",
      "execution_count": null,
      "outputs": []
    },
    {
      "cell_type": "markdown",
      "metadata": {
        "id": "FHXmKBrBDf1E"
      },
      "source": [
        "#### 4- XGBoost:\n",
        "\n",
        "Using the *bag of words* approach : [CountVectorizer](https://scikit-learn.org/stable/modules/generated/sklearn.feature_extraction.text.CountVectorizer.html) : `vect=CountVectorizer()`"
      ],
      "id": "FHXmKBrBDf1E"
    },
    {
      "cell_type": "markdown",
      "metadata": {
        "id": "Qy-c4wsMKSYt"
      },
      "source": [
        "```\n",
        "Best CV score: 0.917\n",
        "Best parameters set:\n",
        "\tmodel__gamma: 0\n",
        "\tmodel__learning_rate: 0.5\n",
        "\tmodel__n_estimators: 50\n",
        "\tmodel__subsample: 1.0\n",
        "\tfeatures__pipe__vect__binary: True\n",
        "\tfeatures__pipe__vect__max_df: 0.25\n",
        "\tfeatures__pipe__vect__min_df: 1\n",
        "\tfeatures__pipe__vect__ngram_range: (1, 3)\n",
        "Val score with best_estimator_: 0.909\n",
        "\n",
        "======================================================\n",
        "Classification Report Test Data\n",
        "======================================================\n",
        "              precision    recall  f1-score   support\n",
        "======================================================\n",
        "        fake       0.91      0.90      0.90       812\n",
        "        real       0.91      0.92      0.91       900\n",
        "======================================================\n",
        "    accuracy                           0.91      1712\n",
        "   macro avg       0.91      0.91      0.91      1712\n",
        "weighted avg       0.91      0.91      0.91      1712\n",
        "======================================================\n",
        "```"
      ],
      "id": "Qy-c4wsMKSYt"
    },
    {
      "cell_type": "markdown",
      "metadata": {
        "id": "9dL0S6F9D2En"
      },
      "source": [
        "Using Term Frequency - Inverse Document Frequency : [TF - IDF](https://scikit-learn.org/stable/modules/generated/sklearn.feature_extraction.text.TfidfVectorizer.html)"
      ],
      "id": "9dL0S6F9D2En"
    },
    {
      "cell_type": "markdown",
      "metadata": {
        "id": "1G3e31mKKTZJ"
      },
      "source": [
        "```\n",
        "Best CV score: 0.919\n",
        "Best parameters set:\n",
        "\tmodel__gamma: 0.5\n",
        "\tmodel__learning_rate: 0.5\n",
        "\tmodel__n_estimators: 50\n",
        "\tmodel__subsample: 0.8\n",
        "\tfeatures__pipe__vect__binary: False\n",
        "\tfeatures__pipe__vect__max_df: 0.5\n",
        "\tfeatures__pipe__vect__min_df: 2\n",
        "\tfeatures__pipe__vect__ngram_range: (1, 3)\n",
        "Val score with best_estimator_: 0.908\n",
        "\n",
        "======================================================\n",
        "Classification Report Test Data\n",
        "======================================================\n",
        "              precision    recall  f1-score   support\n",
        "======================================================\n",
        "        fake       0.90      0.90      0.90       812\n",
        "        real       0.91      0.91      0.91       900\n",
        "======================================================\n",
        "    accuracy                           0.91      1712\n",
        "   macro avg       0.91      0.91      0.91      1712\n",
        "weighted avg       0.91      0.91      0.91      1712\n",
        "======================================================\n",
        "```"
      ],
      "id": "1G3e31mKKTZJ"
    },
    {
      "cell_type": "code",
      "metadata": {
        "id": "S77EJkf9481t"
      },
      "source": [
        "vect_cstm_XGB = CountVectorizer(binary=True, max_df=0.25, min_df=1, ngram_range=(1, 3))\n",
        "XGB_vect_cstm = XGBClassifier(use_label_encoder=False, gamma=0, learning_rate=0.5, n_estimators=50, subsample=1)\n",
        "\n",
        "tfidf_cstm_XGB = TfidfVectorizer(binary=False, max_df=0.5, min_df=2, ngram_range=(1, 3))\n",
        "XGB_tfidf_cstm = XGBClassifier(use_label_encoder=False, gamma=0.5, learning_rate=0.5, n_estimators=50, subsample=0.8)"
      ],
      "id": "S77EJkf9481t",
      "execution_count": null,
      "outputs": []
    },
    {
      "cell_type": "markdown",
      "metadata": {
        "id": "BoRy77lo6Q5F"
      },
      "source": [
        "Now we prepare set everything up"
      ],
      "id": "BoRy77lo6Q5F"
    },
    {
      "cell_type": "code",
      "metadata": {
        "colab": {
          "base_uri": "https://localhost:8080/",
          "height": 175
        },
        "id": "kC7OIIvU6RpK",
        "outputId": "2d63e9b7-1ec1-4481-e6d3-871e339e40f7"
      },
      "source": [
        "models_vect_cstm = {'logReg': (logReg_vect_cstm, vect_cstm_logReg),\n",
        "                    'MultiNB': (MultiNB_vect_cstm, vect_cstm_MultiNB),\n",
        "                    'lSVC': (lSVC_vect_cstm, vect_cstm_lSVC),\n",
        "                    'XGB': (XGB_vect_cstm, vect_cstm_XGB)}\n",
        "\n",
        "models_tfidf_cstm = {'logReg': (logReg_tfidf_cstm, tfidf_cstm_lorReg),\n",
        "                    'MultiNB': (MultiNB_tfidf_cstm, tfidf_cstm_MultiNB),\n",
        "                    'lSVC': (lSVC_tfidf_cstm, tfidf_cstm_lSVC),\n",
        "                    'XGB': (XGB_tfidf_cstm, tfidf_cstm_XGB) }\n",
        "\n",
        "#tweaking the score function so it scores also using a custom vectorizer\n",
        "def best_mod_score(models, X_train, X_test, y_train, y_test):\n",
        "  '''\n",
        "  Takes a dictionarry of models with vectorizers and fits each on a training set and returns its score on a test set\n",
        "  '''\n",
        "  # empty dict to append\n",
        "  results = {}\n",
        "  for name, tup in models.items() :\n",
        "    model = tup[0]\n",
        "    vect = tup[1]\n",
        "    X_train_vect = vect.fit_transform(X_train.clean_tweet) # ffeature extraction:\n",
        "    X_test_vect = vect.transform(X_test.clean_tweet) # transform testing data (using training data's features)\n",
        "    model.fit(X_train_vect, y_train)\n",
        "    results[name] = model.score(X_test_vect, y_test)\n",
        "  return results\n",
        "\n",
        "best_mod_scores_vect = best_mod_score(models_vect_cstm, X_train, X_val, y_train, y_val)\n",
        "best_mod_scores_tfidf = best_mod_score(models_tfidf_cstm, X_train, X_val, y_train, y_val)\n",
        "\n",
        "best_scores = pd.DataFrame( {'accuracy_Cvect' : ['{:.3f}%'.format(v*100) for v in best_mod_scores_vect.values()],'accuracy_TF-IDF' : ['{:.3f}%'.format(v*100) for v in best_mod_scores_tfidf.values()]}, index=models.keys()).sort_values(by='accuracy_TF-IDF', ascending = False)\n",
        "best_scores"
      ],
      "id": "kC7OIIvU6RpK",
      "execution_count": null,
      "outputs": [
        {
          "output_type": "execute_result",
          "data": {
            "text/html": [
              "<div>\n",
              "<style scoped>\n",
              "    .dataframe tbody tr th:only-of-type {\n",
              "        vertical-align: middle;\n",
              "    }\n",
              "\n",
              "    .dataframe tbody tr th {\n",
              "        vertical-align: top;\n",
              "    }\n",
              "\n",
              "    .dataframe thead th {\n",
              "        text-align: right;\n",
              "    }\n",
              "</style>\n",
              "<table border=\"1\" class=\"dataframe\">\n",
              "  <thead>\n",
              "    <tr style=\"text-align: right;\">\n",
              "      <th></th>\n",
              "      <th>accuracy_Cvect</th>\n",
              "      <th>accuracy_TF-IDF</th>\n",
              "    </tr>\n",
              "  </thead>\n",
              "  <tbody>\n",
              "    <tr>\n",
              "      <th>logReg</th>\n",
              "      <td>93.049%</td>\n",
              "      <td>94.217%</td>\n",
              "    </tr>\n",
              "    <tr>\n",
              "      <th>lSVC</th>\n",
              "      <td>93.166%</td>\n",
              "      <td>94.042%</td>\n",
              "    </tr>\n",
              "    <tr>\n",
              "      <th>MultiNB</th>\n",
              "      <td>93.283%</td>\n",
              "      <td>91.998%</td>\n",
              "    </tr>\n",
              "    <tr>\n",
              "      <th>XGB</th>\n",
              "      <td>88.084%</td>\n",
              "      <td>87.266%</td>\n",
              "    </tr>\n",
              "  </tbody>\n",
              "</table>\n",
              "</div>"
            ],
            "text/plain": [
              "        accuracy_Cvect accuracy_TF-IDF\n",
              "logReg         93.049%         94.217%\n",
              "lSVC           93.166%         94.042%\n",
              "MultiNB        93.283%         91.998%\n",
              "XGB            88.084%         87.266%"
            ]
          },
          "metadata": {
            "tags": []
          },
          "execution_count": 253
        }
      ]
    },
    {
      "cell_type": "markdown",
      "metadata": {
        "id": "FqXMYSeIBqDV"
      },
      "source": [
        "And visiualize how our fine tuned models performed:"
      ],
      "id": "FqXMYSeIBqDV"
    },
    {
      "cell_type": "code",
      "metadata": {
        "colab": {
          "base_uri": "https://localhost:8080/",
          "height": 512
        },
        "id": "lZokdZ57IIb9",
        "outputId": "5ba3ddf0-34be-43a6-8758-23ba820f1a0e"
      },
      "source": [
        "fig, ax = plt.subplots(figsize = (16,8))\n",
        "\n",
        "#plot:\n",
        "pd.DataFrame( {'accuracy_Cvect' : best_mod_scores_vect.values(), 'accuracy_TF-IDF' : best_mod_scores_tfidf.values()}, index=models.keys()).sort_values(by='accuracy_TF-IDF', ascending = False).plot.bar(color = (colours[2], colours[0]), ax = ax, legend=  False)\n",
        "\n",
        "# plot infos:\n",
        "plt.title('Comparison using GridSearchCV')\n",
        "plt.xlabel('Classifiers')\n",
        "plt.ylabel('accuracy')\n",
        "plt.legend(['using BOW vectorization', 'using TF-IDF vectorization'], bbox_to_anchor=(1.2, 1), loc='best')\n",
        "plt.xticks(rotation = 0);"
      ],
      "id": "lZokdZ57IIb9",
      "execution_count": null,
      "outputs": [
        {
          "output_type": "display_data",
          "data": {
            "image/png": "[encoded data removed]",
            "text/plain": [
              "<Figure size 1152x576 with 1 Axes>"
            ]
          },
          "metadata": {
            "tags": []
          }
        }
      ]
    },
    {
      "cell_type": "markdown",
      "metadata": {
        "id": "patient-trunk"
      },
      "source": [
        "# 3) Model evaluation:\n",
        "\n",
        "Now that we saw a slight improvement in our model's performance, we can evaluate it on the testing Dataset: We first prepare our testing dataset"
      ],
      "id": "patient-trunk"
    },
    {
      "cell_type": "code",
      "metadata": {
        "id": "sDhT6p79bxzm"
      },
      "source": [
        "test_df = test_df.reset_index().drop('id', axis=1)\n",
        "test_df['label'] = test_df.label.map({'real':1, 'fake':0})\n",
        "test_df['clean_tweet'] = test_df['tweet'].apply(clean)\n",
        "test_df = test_df.drop(['tweet'], axis = 1)"
      ],
      "id": "sDhT6p79bxzm",
      "execution_count": null,
      "outputs": []
    },
    {
      "cell_type": "markdown",
      "metadata": {
        "id": "gHj0d9Pah_f1"
      },
      "source": [
        "And we evaluate our model on the test data:"
      ],
      "id": "gHj0d9Pah_f1"
    },
    {
      "cell_type": "code",
      "metadata": {
        "id": "WgPXFjzxC8KL"
      },
      "source": [
        "X_train, X_test, y_train, y_test = main_df.drop(['label'], axis=1), test_df.drop(['label'], axis=1), main_df.label, test_df.label\n",
        "\n",
        "# Preprocess and Vectorize the data:\n",
        "X_train_tfidfv = tfidf_cstm_lorReg.fit_transform(X_train.clean_tweet)\n",
        "X_test_tfidfv = tfidf_cstm_lorReg.transform(X_test.clean_tweet)\n",
        "\n",
        "# Instantiate best model with best hyperparameters\n",
        "history = logReg_tfidf_cstm.fit(X_train_tfidfv, y_train)\n",
        "\n",
        "# Make predictions\n",
        "y_preds = history.predict(X_test_tfidfv)"
      ],
      "id": "WgPXFjzxC8KL",
      "execution_count": null,
      "outputs": []
    },
    {
      "cell_type": "markdown",
      "metadata": {
        "id": "fuJ38mHQFM75"
      },
      "source": [
        "### Confusion matrix:\n",
        "\n",
        "It is somehow a visual way to show where our model nailed its predictions and where it failed:"
      ],
      "id": "fuJ38mHQFM75"
    },
    {
      "cell_type": "code",
      "metadata": {
        "id": "cm38wJe4C8Dn",
        "colab": {
          "base_uri": "https://localhost:8080/",
          "height": 466
        },
        "outputId": "f1fd56f3-c989-4589-aa56-d3a0388e7b7a"
      },
      "source": [
        "conf_mtrx = confusion_matrix(y_test, y_preds)\n",
        "\n",
        "conf_mtrx_plot(conf_mtrx, normalize=True);"
      ],
      "id": "cm38wJe4C8Dn",
      "execution_count": null,
      "outputs": [
        {
          "output_type": "display_data",
          "data": {
            "image/png": "[encoded data removed]",
            "text/plain": [
              "<Figure size 576x576 with 2 Axes>"
            ]
          },
          "metadata": {
            "tags": []
          }
        }
      ]
    },
    {
      "cell_type": "markdown",
      "metadata": {
        "id": "cSsiXH5lFa5B"
      },
      "source": [
        "### ROC Curve and AUC Scores\n",
        "\n",
        "We basically compare the true positive rate to the false positive rate, i.e. a tweet that is flagged real, but is fake vs a tweet that is flagged fake although it is real:"
      ],
      "id": "cSsiXH5lFa5B"
    },
    {
      "cell_type": "code",
      "metadata": {
        "id": "Dy2G_lDqF-Pl",
        "colab": {
          "base_uri": "https://localhost:8080/",
          "height": 718
        },
        "outputId": "26300468-6139-417c-defa-87f69e052648"
      },
      "source": [
        "ROC_cur_plot(history, X_test_tfidfv, y_test);"
      ],
      "id": "Dy2G_lDqF-Pl",
      "execution_count": null,
      "outputs": [
        {
          "output_type": "display_data",
          "data": {
            "image/png": "[encoded data removed]",
            "text/plain": [
              "<Figure size 800x800 with 1 Axes>"
            ]
          },
          "metadata": {
            "tags": []
          }
        }
      ]
    },
    {
      "cell_type": "markdown",
      "metadata": {
        "id": "I9IOqEWSHfgo"
      },
      "source": [
        "### Classification report:\n",
        "Now let's have a look at the main evaluation metrics:"
      ],
      "id": "I9IOqEWSHfgo"
    },
    {
      "cell_type": "code",
      "metadata": {
        "id": "uYZ7ZAcSHYLD",
        "colab": {
          "base_uri": "https://localhost:8080/",
          "height": 206
        },
        "outputId": "af51edc3-e00f-4a44-8d53-42657bc47b22"
      },
      "source": [
        "# Create a classification report using the classification_report function\n",
        "report = classification_report(y_test, y_preds, output_dict=True)\n",
        "\n",
        "pd.DataFrame(report).T"
      ],
      "id": "uYZ7ZAcSHYLD",
      "execution_count": null,
      "outputs": [
        {
          "output_type": "execute_result",
          "data": {
            "text/html": [
              "<div>\n",
              "<style scoped>\n",
              "    .dataframe tbody tr th:only-of-type {\n",
              "        vertical-align: middle;\n",
              "    }\n",
              "\n",
              "    .dataframe tbody tr th {\n",
              "        vertical-align: top;\n",
              "    }\n",
              "\n",
              "    .dataframe thead th {\n",
              "        text-align: right;\n",
              "    }\n",
              "</style>\n",
              "<table border=\"1\" class=\"dataframe\">\n",
              "  <thead>\n",
              "    <tr style=\"text-align: right;\">\n",
              "      <th></th>\n",
              "      <th>precision</th>\n",
              "      <th>recall</th>\n",
              "      <th>f1-score</th>\n",
              "      <th>support</th>\n",
              "    </tr>\n",
              "  </thead>\n",
              "  <tbody>\n",
              "    <tr>\n",
              "      <th>0</th>\n",
              "      <td>0.939303</td>\n",
              "      <td>0.925490</td>\n",
              "      <td>0.932346</td>\n",
              "      <td>1020.000000</td>\n",
              "    </tr>\n",
              "    <tr>\n",
              "      <th>1</th>\n",
              "      <td>0.933040</td>\n",
              "      <td>0.945536</td>\n",
              "      <td>0.939246</td>\n",
              "      <td>1120.000000</td>\n",
              "    </tr>\n",
              "    <tr>\n",
              "      <th>accuracy</th>\n",
              "      <td>0.935981</td>\n",
              "      <td>0.935981</td>\n",
              "      <td>0.935981</td>\n",
              "      <td>0.935981</td>\n",
              "    </tr>\n",
              "    <tr>\n",
              "      <th>macro avg</th>\n",
              "      <td>0.936172</td>\n",
              "      <td>0.935513</td>\n",
              "      <td>0.935796</td>\n",
              "      <td>2140.000000</td>\n",
              "    </tr>\n",
              "    <tr>\n",
              "      <th>weighted avg</th>\n",
              "      <td>0.936025</td>\n",
              "      <td>0.935981</td>\n",
              "      <td>0.935957</td>\n",
              "      <td>2140.000000</td>\n",
              "    </tr>\n",
              "  </tbody>\n",
              "</table>\n",
              "</div>"
            ],
            "text/plain": [
              "              precision    recall  f1-score      support\n",
              "0              0.939303  0.925490  0.932346  1020.000000\n",
              "1              0.933040  0.945536  0.939246  1120.000000\n",
              "accuracy       0.935981  0.935981  0.935981     0.935981\n",
              "macro avg      0.936172  0.935513  0.935796  2140.000000\n",
              "weighted avg   0.936025  0.935981  0.935957  2140.000000"
            ]
          },
          "metadata": {
            "tags": []
          },
          "execution_count": 317
        }
      ]
    },
    {
      "cell_type": "markdown",
      "metadata": {
        "id": "j8h8XYvDkQKo"
      },
      "source": [
        "We can try our model out, with some random made up tweets and see how it performs :"
      ],
      "id": "j8h8XYvDkQKo"
    },
    {
      "cell_type": "code",
      "metadata": {
        "id": "lnHN3qZxkkQG"
      },
      "source": [
        "tweet1 = \"\"\"The charity @TEDSliverpool says money raised in memory of Claudia Walsh \n",
        "means it'll be able to help more people with mental health issuesClaudia died with \n",
        "#coronoavirus on her 25th birthday. She also volunteered at @WhitechapelLiv. More \n",
        "than £21,000 has already been raised\"\"\"\n",
        "\n",
        "tweet2 = \"\"\"Canadian-made SARS-CoV-2 detector set to ship worldwide | $KNR $KNR.ca \n",
        "#biocloud #smartbuildings #smartfactory #kontrol #smartcity #smartcities  #ontario \n",
        "#canada #safespaces #madeincanada #innovation #ai #iot #covid19 #covidー19 #sarscov2 \n",
        "#coronoavirus https://bit.ly/3mXWV2O\"\"\"\n",
        "\n",
        "tweet3 = \"\"\"#Coronoavirus : \"Indigenous people are stepping up as volunteer firefighters, \n",
        "but they are now doubly strained: Closed borders have shriveled their income from sustainably \n",
        "harvested forest exports\" @ACOFOP #Guatemala @alianzabosques https://apnews.com/e3cddd53e453a2\"\"\"\n",
        "\n",
        "tweet4 = \"\"\"Masih Alinejad says Government hid news of #coronoavirus for political purposes\"\"\"\n",
        "\n",
        "df = pd.DataFrame([tweet1, tweet2, tweet3, tweet4], columns=['tweet'])\n",
        "df['clean_tweet'] = df['tweet'].apply(clean)\n",
        "df = df.drop(['tweet'], axis = 1)\n",
        "vect = tfidf_cstm_lorReg.transform(df.clean_tweet)"
      ],
      "id": "lnHN3qZxkkQG",
      "execution_count": null,
      "outputs": []
    },
    {
      "cell_type": "markdown",
      "metadata": {
        "id": "o8rDQpiCrjXe"
      },
      "source": [
        "and we can use our model to predict the veracity of tweets:"
      ],
      "id": "o8rDQpiCrjXe"
    },
    {
      "cell_type": "code",
      "metadata": {
        "colab": {
          "base_uri": "https://localhost:8080/"
        },
        "id": "bludl_Axp8TX",
        "outputId": "876a623d-7346-4071-da0b-d054bc8a4aad"
      },
      "source": [
        "# Make predictions\n",
        "y_preds = ['real' if v == 1 else 'fake' for v in history.predict(vect).tolist() ]\n",
        "\n",
        "y_preds"
      ],
      "id": "bludl_Axp8TX",
      "execution_count": null,
      "outputs": [
        {
          "output_type": "execute_result",
          "data": {
            "text/plain": [
              "['fake', 'real', 'fake', 'fake']"
            ]
          },
          "metadata": {
            "tags": []
          },
          "execution_count": 337
        }
      ]
    },
    {
      "cell_type": "markdown",
      "metadata": {
        "id": "seSHaawsyzHG"
      },
      "source": [
        "# 4) For the future:\n",
        "\n",
        "Maybe try Deep Learning? a CNN using Words Embeddings with LogReg's feature extractions... or robert/daBert? Ernie2.0?"
      ],
      "id": "seSHaawsyzHG"
    }
  ]
}